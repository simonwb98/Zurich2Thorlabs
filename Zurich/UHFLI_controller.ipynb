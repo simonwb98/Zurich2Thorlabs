{
 "cells": [
  {
   "attachments": {},
   "cell_type": "markdown",
   "metadata": {},
   "source": [
    "# Zurich Instruments - Connecting to UHFLI Lock-In Amplifier"
   ]
  },
  {
   "cell_type": "code",
   "execution_count": 1,
   "metadata": {},
   "outputs": [],
   "source": [
    "#import modules\n",
    "from zhinst import utils as ziutils"
   ]
  },
  {
   "cell_type": "code",
   "execution_count": 3,
   "metadata": {},
   "outputs": [
    {
     "name": "stdout",
     "output_type": "stream",
     "text": [
      "Trying to connect to dev2142 on interface USB\n",
      "Connected to dev2142 via data server 127.0.0.1:8004 and interface USB\n"
     ]
    }
   ],
   "source": [
    "# connect to lock-in\n",
    "device_id = \"dev2142\"\n",
    "apilevel = 6\n",
    "(daq, device, props) = ziutils.create_api_session(device_id, apilevel)"
   ]
  },
  {
   "cell_type": "code",
   "execution_count": 4,
   "metadata": {},
   "outputs": [
    {
     "name": "stdout",
     "output_type": "stream",
     "text": [
      "{'timestamp': array([7988561507778744], dtype=uint64), 'x': array([-3.54438962e-07]), 'y': array([-1.13533132e-06]), 'frequency': array([308258.31927359]), 'phase': array([3.96140951]), 'dio': array([0], dtype=uint32), 'trigger': array([776], dtype=uint32), 'auxin0': array([0.]), 'auxin1': array([0.])}\n"
     ]
    }
   ],
   "source": [
    "# read out a single sample from the demodulator\n",
    "sample = daq.getSample(\"/%s/demods/0/sample\" % device)\n",
    "print(sample)"
   ]
  },
  {
   "cell_type": "code",
   "execution_count": 5,
   "metadata": {},
   "outputs": [
    {
     "name": "stdout",
     "output_type": "stream",
     "text": [
      "R:        [1.18937134e-06]\n",
      "theta:    [-1.87339865]\n"
     ]
    }
   ],
   "source": [
    "# convert X and Y into polar representation\n",
    "import numpy as np\n",
    "\n",
    "sample[\"R\"] = np.abs(sample[\"x\"] + 1j * sample[\"y\"])\n",
    "sample[\"theta\"] = np.angle(sample[\"x\"] + 1j * sample[\"y\"])\n",
    "\n",
    "print(\"R:       \", sample[\"R\"])\n",
    "print(\"theta:   \", sample[\"theta\"])"
   ]
  },
  {
   "cell_type": "code",
   "execution_count": 6,
   "metadata": {},
   "outputs": [
    {
     "name": "stdout",
     "output_type": "stream",
     "text": [
      "timestamp:    [7989311627591864]\n"
     ]
    }
   ],
   "source": [
    "from IPython.display import clear_output\n",
    "import time\n",
    "t_end = time.time() + 20\n",
    "\n",
    "while time.time() < t_end:\n",
    "    clear_output(wait = True)\n",
    "    time.sleep(0.1)\n",
    "\n",
    "    sample = daq.getSample(\"/%s/demods/0/sample\" % device)\n",
    "\n",
    "    print(\"timestamp:   \", sample[\"timestamp\"])"
   ]
  }
 ],
 "metadata": {
  "kernelspec": {
   "display_name": "Python 3",
   "language": "python",
   "name": "python3"
  },
  "language_info": {
   "codemirror_mode": {
    "name": "ipython",
    "version": 3
   },
   "file_extension": ".py",
   "mimetype": "text/x-python",
   "name": "python",
   "nbconvert_exporter": "python",
   "pygments_lexer": "ipython3",
   "version": "3.11.3"
  },
  "orig_nbformat": 4
 },
 "nbformat": 4,
 "nbformat_minor": 2
}
